{
 "cells": [
  {
   "cell_type": "markdown",
   "metadata": {},
   "source": [
    "### TP Deep learning - Part 2\n",
    "\n",
    "We are now ready to dive into deep learning. \n",
    "You have two options : \n",
    "- Implement your own architecture with pytorch \n",
    "- Use a pre-train model from Hugging Face and fine-tune it onto your data. \n",
    "\n",
    "#### Option 1 \n",
    "In the first scenario, many architectures are available, among them \n",
    "- Word embedding + CNN (as presented bellow) \n",
    "- LSTM \n",
    "1. Do researches to understand the general mechanisms of the model you choose. Explain the model and propose a visualisation (similar to the figure bellow). Maximum 20 lines.\n",
    "\n",
    "2. Pre-processing : by nature, text cannot be directly feed to a neural network. Similarly than for the logistic regression, we first need to prepare the data. In our case, we will distinguish the following preprocessing steps\n",
    "    1. Load the data\n",
    "    2. Clean the data : lowercase the text and remove special symbol \n",
    "    3. Tokenize the text \n",
    "    4. Build the vocabulary \n",
    "    5. Padding \n",
    "    6. Split into train and test\n",
    "    \n",
    "Implement all these functions to prepare the data.\n",
    "\n",
    "3. Implement the architecture of your choice using pytorch. DO NOT only use Jupyter notebook. For this kind of project, jupyter notebook can be used to call the main function, but you have to organise your project with different .py modules. Again, make sure to comment properly your code. \n",
    "4. Train and evaluate your model using accuracy and f1 score. \n",
    "5. Tune two hyper-parameters of your choice. \n",
    "\n",
    "#### Option 2 \n",
    "Second option : choose a pre-trained model (we recommend BERT) and fine-tune it on your data. \n",
    "1. Do research and explain the basic mechanisms of the chosen pre-trained model. Maximum 20 lines. \n",
    "2. Explain the pre-processing required. \n",
    "3. Explain at least 2 different fine-tuning strategies and implement one. \n",
    "4. Tune two hyper-parameters of your choice. "
   ]
  },
  {
   "cell_type": "markdown",
   "metadata": {},
   "source": [
    "There are multiple possible deep learning architectures for text classification. Here is an example for option 1?"
   ]
  },
  {
   "cell_type": "code",
   "execution_count": 1,
   "metadata": {},
   "outputs": [
    {
     "data": {
      "text/html": [
       "<img src=\"img/archi_cnn.jpeg\" width=\"600\" height=\"600\"/>"
      ],
      "text/plain": [
       "<IPython.core.display.Image object>"
      ]
     },
     "execution_count": 1,
     "metadata": {},
     "output_type": "execute_result"
    }
   ],
   "source": [
    "from IPython.display import Image\n",
    "Image(url= \"img/archi_cnn.jpeg\", width=600, height=600)"
   ]
  },
  {
   "cell_type": "code",
   "execution_count": 2,
   "metadata": {},
   "outputs": [
    {
     "data": {
      "text/html": [
       "<img src=\"img/cnn-text-classification.jpg\" width=\"800\" height=\"800\"/>"
      ],
      "text/plain": [
       "<IPython.core.display.Image object>"
      ]
     },
     "execution_count": 2,
     "metadata": {},
     "output_type": "execute_result"
    }
   ],
   "source": [
    "from IPython.display import Image\n",
    "Image(url= \"img/cnn-text-classification.jpg\", width=800, height=800)"
   ]
  },
  {
   "cell_type": "markdown",
   "metadata": {},
   "source": [
    "**IMPORTANT** \n",
    "The main code is executed in this notebook, however the classes and functions implemented are in separated files with the extension `.py` and will be imported. \n",
    "For instance you should have \n",
    "- 1 file with pre-processing function \n",
    "- 1 file with model definition \n",
    "- 1 file for running and evaluating the model"
   ]
  },
  {
   "cell_type": "markdown",
   "metadata": {},
   "source": [
    "## Réponses"
   ]
  },
  {
   "cell_type": "markdown",
   "metadata": {},
   "source": [
    "### Option 1\n",
    "\n",
    "Nous avons fait le choix de l'architecture LSTM.\n",
    "En effet, les CNN sont plus adaptés pour la detection d'objets en traitement d'image, ce qui n'est pas notre cas ici, puisque nous avons des mots.\n",
    "\n",
    "L'une des principales propriétés de LSTM est de mémoriser et de reconnaître les informations qui entrent dans le réseau et également d'écarter les informations qui ne sont pas nécessaires au réseau pour apprendre les données et les prédictions.\n",
    "\n",
    "\n",
    "### Fonctionnement du LSTM\n",
    "\n",
    "Le LSTM est composé de 3 portes principales qui sont : FORGET Gate / INPUT Gate / OUTPUT Gate. Il y a aussi le Cell State à prendre en compte.\n",
    "\n",
    "##### FORGET Gate\n",
    "Cette porte permet de faire le tri sur les informations à garder ou à supprimer en comparant les informations de la cellule actuelle et de la cellule précédente. Ces 2 données sont passées dans une fonction sigmoïde qui supprime les valeurs proches de 0. Les données conservées sont passées à la cellule suivante.\n",
    "\n",
    "##### INPUT Gate\n",
    "Le fonctionnement est similaire au FORGET Gate, ici le but est de savoir quelles sont les informations importantes.\n",
    "Les données de la cellule précédente et de la cellule actuelle sont passées dans 2 fonctions sigmoïde et tangente hyperbolique (tanh). La fonction tanh permet de réguler le réseau et de réduire le biais.\n",
    "\n",
    "##### Cell State\n",
    "Le Cell State est calculé de la manière suivante : l'état actuel de la cellule est dans un premier temps multiplié par la sortie de la FORGET Gate. Il est donc possible de supprimer les valeurs du cell state qui sont proches de 0. Enfin, les données de la cellules sont mise à jour en les sommants avec le résultat de la porte de sortie.\n",
    "\n",
    "##### OUTPUT Gate\n",
    "C'est la dernière porte du modèle. Celle-ci décide quel sera le prochain hidden state. Les informations de la cellule actuelle et de la cellule précédente sont passées dans une fonction tanh et sont  multipliées avec les sorties de la fonction sigmoïde. Cela permet de savoir quelles sont les informations que le hidden state doit conserver.\n"
   ]
  },
  {
   "cell_type": "code",
   "execution_count": 5,
   "metadata": {},
   "outputs": [
    {
     "data": {
      "text/html": [
       "<img src=\"img/lstm.png\" width=\"600\" height=\"600\"/>"
      ],
      "text/plain": [
       "<IPython.core.display.Image object>"
      ]
     },
     "execution_count": 5,
     "metadata": {},
     "output_type": "execute_result"
    }
   ],
   "source": [
    "Image(url= \"img/lstm.png\", width=600, height=600)"
   ]
  },
  {
   "cell_type": "code",
   "execution_count": 12,
   "metadata": {},
   "outputs": [],
   "source": [
    "import pandas as pd\n",
    "df = pd.read_csv('../TP-DeepLearning/data/dataset_to_model.csv')"
   ]
  },
  {
   "cell_type": "code",
   "execution_count": 13,
   "metadata": {},
   "outputs": [
    {
     "data": {
      "text/html": [
       "<div>\n",
       "<style scoped>\n",
       "    .dataframe tbody tr th:only-of-type {\n",
       "        vertical-align: middle;\n",
       "    }\n",
       "\n",
       "    .dataframe tbody tr th {\n",
       "        vertical-align: top;\n",
       "    }\n",
       "\n",
       "    .dataframe thead th {\n",
       "        text-align: right;\n",
       "    }\n",
       "</style>\n",
       "<table border=\"1\" class=\"dataframe\">\n",
       "  <thead>\n",
       "    <tr style=\"text-align: right;\">\n",
       "      <th></th>\n",
       "      <th>Category</th>\n",
       "      <th>description_pre</th>\n",
       "    </tr>\n",
       "  </thead>\n",
       "  <tbody>\n",
       "    <tr>\n",
       "      <th>71341</th>\n",
       "      <td>19</td>\n",
       "      <td>research explores inequalities affect american...</td>\n",
       "    </tr>\n",
       "    <tr>\n",
       "      <th>59656</th>\n",
       "      <td>6</td>\n",
       "      <td>proficient writer editor wide range travel exp...</td>\n",
       "    </tr>\n",
       "    <tr>\n",
       "      <th>128243</th>\n",
       "      <td>19</td>\n",
       "      <td>ishemo held posts senior regional planner tanz...</td>\n",
       "    </tr>\n",
       "    <tr>\n",
       "      <th>87584</th>\n",
       "      <td>19</td>\n",
       "      <td>also taught xavier college kolkata university ...</td>\n",
       "    </tr>\n",
       "    <tr>\n",
       "      <th>113995</th>\n",
       "      <td>6</td>\n",
       "      <td>written black enterprise magazine essence maga...</td>\n",
       "    </tr>\n",
       "  </tbody>\n",
       "</table>\n",
       "</div>"
      ],
      "text/plain": [
       "        Category                                    description_pre\n",
       "71341         19  research explores inequalities affect american...\n",
       "59656          6  proficient writer editor wide range travel exp...\n",
       "128243        19  ishemo held posts senior regional planner tanz...\n",
       "87584         19  also taught xavier college kolkata university ...\n",
       "113995         6  written black enterprise magazine essence maga..."
      ]
     },
     "execution_count": 13,
     "metadata": {},
     "output_type": "execute_result"
    }
   ],
   "source": [
    "df.sample(5)"
   ]
  },
  {
   "cell_type": "code",
   "execution_count": null,
   "metadata": {},
   "outputs": [],
   "source": []
  }
 ],
 "metadata": {
  "kernelspec": {
   "display_name": "Python 3",
   "language": "python",
   "name": "python3"
  },
  "language_info": {
   "codemirror_mode": {
    "name": "ipython",
    "version": 3
   },
   "file_extension": ".py",
   "mimetype": "text/x-python",
   "name": "python",
   "nbconvert_exporter": "python",
   "pygments_lexer": "ipython3",
   "version": "3.8.3"
  }
 },
 "nbformat": 4,
 "nbformat_minor": 5
}
