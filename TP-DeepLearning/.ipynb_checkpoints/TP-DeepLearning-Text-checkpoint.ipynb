{
 "cells": [
  {
   "cell_type": "markdown",
   "metadata": {},
   "source": [
    "# Deep learning - DE3 final Lab (Evaluation) \n",
    "\n",
    "This project belongs to the NLP domain. The task is straightforward: assign the correct job category to a job description. This is thus a multi-class classification task with 28 classes to choose from.\n",
    "The data has been retrieved from CommonCrawl. The latter has been famously used to train OpenAI's GPT-3 model. The data is therefore representative of what can be found on the English speaking part of the Internet. The goal of this project is to design a solution that accurate to predict the job based on the job descriptions. \n",
    "\n",
    "## Evaluation\n",
    "\n",
    "First of all, solutions are evaluated according to the Macro F1 metric, The Macro F1 score is simply the arithmetic average of the F1 score for each class.\n",
    "\n",
    "## Datasets\n",
    "\n",
    "**data.json**\n",
    "Contains job descriptions as well as genders for the training set, which contains 217,197 samples. If you're using pandas, then you can easily open this with pd.read_json.\n",
    "\n",
    "**label.csv**\n",
    "Contains job labels for the training set.\n",
    "\n",
    "**categories_string.csv**\n",
    "Provides a mapping between job labels and label integers"
   ]
  },
  {
   "cell_type": "code",
   "execution_count": 99,
   "metadata": {},
   "outputs": [],
   "source": [
    "# Import modules\n",
    "import pandas as pd\n",
    "import pickle\n",
    "from sklearn.model_selection import train_test_split\n",
    "from sklearn.feature_extraction.text import TfidfVectorizer\n",
    "from sklearn.linear_model import LogisticRegression\n",
    "from sklearn.metrics import f1_score\n",
    "import numpy as np"
   ]
  },
  {
   "cell_type": "markdown",
   "metadata": {},
   "source": [
    "## Baseline 1 (no deep learning)\n",
    "\n",
    "For this part we propose to train and test a straightforward logistic regression model on the tf-idf vectors extracted from the corpus. We are not applying any particular pre-processing to start and will progressively try to reduce the dimension of the vocabulary."
   ]
  },
  {
   "cell_type": "code",
   "execution_count": 132,
   "metadata": {},
   "outputs": [],
   "source": [
    "# Read all three files to obtain three dataframes (pandas)\n",
    "\n",
    "# read train.json\n",
    "df = pd.read_json('data/train.json')\n",
    "\n",
    "# read label\n",
    "label = pd.read_csv('data/label.csv')\n",
    "\n",
    "# read categories_string\n",
    "categories = pd.read_csv('data/categories_string.csv')"
   ]
  },
  {
   "cell_type": "code",
   "execution_count": 133,
   "metadata": {},
   "outputs": [
    {
     "data": {
      "text/html": [
       "<div>\n",
       "<style scoped>\n",
       "    .dataframe tbody tr th:only-of-type {\n",
       "        vertical-align: middle;\n",
       "    }\n",
       "\n",
       "    .dataframe tbody tr th {\n",
       "        vertical-align: top;\n",
       "    }\n",
       "\n",
       "    .dataframe thead th {\n",
       "        text-align: right;\n",
       "    }\n",
       "</style>\n",
       "<table border=\"1\" class=\"dataframe\">\n",
       "  <thead>\n",
       "    <tr style=\"text-align: right;\">\n",
       "      <th></th>\n",
       "      <th>Id</th>\n",
       "      <th>description</th>\n",
       "      <th>gender</th>\n",
       "    </tr>\n",
       "  </thead>\n",
       "  <tbody>\n",
       "    <tr>\n",
       "      <th>0</th>\n",
       "      <td>0</td>\n",
       "      <td>She is also a Ronald D. Asmus Policy Entrepre...</td>\n",
       "      <td>F</td>\n",
       "    </tr>\n",
       "    <tr>\n",
       "      <th>1</th>\n",
       "      <td>1</td>\n",
       "      <td>He is a member of the AICPA and WICPA. Brent ...</td>\n",
       "      <td>M</td>\n",
       "    </tr>\n",
       "    <tr>\n",
       "      <th>2</th>\n",
       "      <td>2</td>\n",
       "      <td>Dr. Aster has held teaching and research posi...</td>\n",
       "      <td>M</td>\n",
       "    </tr>\n",
       "    <tr>\n",
       "      <th>4</th>\n",
       "      <td>3</td>\n",
       "      <td>He runs a boutique design studio attending cl...</td>\n",
       "      <td>M</td>\n",
       "    </tr>\n",
       "    <tr>\n",
       "      <th>5</th>\n",
       "      <td>4</td>\n",
       "      <td>He focuses on cloud security, identity and ac...</td>\n",
       "      <td>M</td>\n",
       "    </tr>\n",
       "  </tbody>\n",
       "</table>\n",
       "</div>"
      ],
      "text/plain": [
       "   Id                                        description gender\n",
       "0   0   She is also a Ronald D. Asmus Policy Entrepre...      F\n",
       "1   1   He is a member of the AICPA and WICPA. Brent ...      M\n",
       "2   2   Dr. Aster has held teaching and research posi...      M\n",
       "4   3   He runs a boutique design studio attending cl...      M\n",
       "5   4   He focuses on cloud security, identity and ac...      M"
      ]
     },
     "execution_count": 133,
     "metadata": {},
     "output_type": "execute_result"
    }
   ],
   "source": [
    "# Display the 3 first rows of each dataframe\n",
    "df.head(5)"
   ]
  },
  {
   "cell_type": "code",
   "execution_count": 134,
   "metadata": {},
   "outputs": [
    {
     "data": {
      "text/html": [
       "<div>\n",
       "<style scoped>\n",
       "    .dataframe tbody tr th:only-of-type {\n",
       "        vertical-align: middle;\n",
       "    }\n",
       "\n",
       "    .dataframe tbody tr th {\n",
       "        vertical-align: top;\n",
       "    }\n",
       "\n",
       "    .dataframe thead th {\n",
       "        text-align: right;\n",
       "    }\n",
       "</style>\n",
       "<table border=\"1\" class=\"dataframe\">\n",
       "  <thead>\n",
       "    <tr style=\"text-align: right;\">\n",
       "      <th></th>\n",
       "      <th>Id</th>\n",
       "      <th>Category</th>\n",
       "    </tr>\n",
       "  </thead>\n",
       "  <tbody>\n",
       "    <tr>\n",
       "      <th>0</th>\n",
       "      <td>0</td>\n",
       "      <td>19</td>\n",
       "    </tr>\n",
       "    <tr>\n",
       "      <th>1</th>\n",
       "      <td>1</td>\n",
       "      <td>9</td>\n",
       "    </tr>\n",
       "    <tr>\n",
       "      <th>2</th>\n",
       "      <td>2</td>\n",
       "      <td>19</td>\n",
       "    </tr>\n",
       "  </tbody>\n",
       "</table>\n",
       "</div>"
      ],
      "text/plain": [
       "   Id  Category\n",
       "0   0        19\n",
       "1   1         9\n",
       "2   2        19"
      ]
     },
     "execution_count": 134,
     "metadata": {},
     "output_type": "execute_result"
    }
   ],
   "source": [
    "label.head(3)"
   ]
  },
  {
   "cell_type": "code",
   "execution_count": 135,
   "metadata": {},
   "outputs": [
    {
     "data": {
      "text/html": [
       "<div>\n",
       "<style scoped>\n",
       "    .dataframe tbody tr th:only-of-type {\n",
       "        vertical-align: middle;\n",
       "    }\n",
       "\n",
       "    .dataframe tbody tr th {\n",
       "        vertical-align: top;\n",
       "    }\n",
       "\n",
       "    .dataframe thead th {\n",
       "        text-align: right;\n",
       "    }\n",
       "</style>\n",
       "<table border=\"1\" class=\"dataframe\">\n",
       "  <thead>\n",
       "    <tr style=\"text-align: right;\">\n",
       "      <th></th>\n",
       "      <th>0</th>\n",
       "      <th>1</th>\n",
       "    </tr>\n",
       "  </thead>\n",
       "  <tbody>\n",
       "    <tr>\n",
       "      <th>0</th>\n",
       "      <td>pastor</td>\n",
       "      <td>0</td>\n",
       "    </tr>\n",
       "    <tr>\n",
       "      <th>1</th>\n",
       "      <td>model</td>\n",
       "      <td>1</td>\n",
       "    </tr>\n",
       "    <tr>\n",
       "      <th>2</th>\n",
       "      <td>yoga_teacher</td>\n",
       "      <td>2</td>\n",
       "    </tr>\n",
       "  </tbody>\n",
       "</table>\n",
       "</div>"
      ],
      "text/plain": [
       "              0  1\n",
       "0        pastor  0\n",
       "1         model  1\n",
       "2  yoga_teacher  2"
      ]
     },
     "execution_count": 135,
     "metadata": {},
     "output_type": "execute_result"
    }
   ],
   "source": [
    "categories.head(3)"
   ]
  },
  {
   "cell_type": "code",
   "execution_count": 136,
   "metadata": {},
   "outputs": [],
   "source": [
    "# Add a column in df based on the column Category from the label dataframe\n",
    "#df['label'] = label['Category']\n",
    "df = pd.merge(df, label, on='Id')"
   ]
  },
  {
   "cell_type": "code",
   "execution_count": 137,
   "metadata": {},
   "outputs": [
    {
     "data": {
      "text/html": [
       "<div>\n",
       "<style scoped>\n",
       "    .dataframe tbody tr th:only-of-type {\n",
       "        vertical-align: middle;\n",
       "    }\n",
       "\n",
       "    .dataframe tbody tr th {\n",
       "        vertical-align: top;\n",
       "    }\n",
       "\n",
       "    .dataframe thead th {\n",
       "        text-align: right;\n",
       "    }\n",
       "</style>\n",
       "<table border=\"1\" class=\"dataframe\">\n",
       "  <thead>\n",
       "    <tr style=\"text-align: right;\">\n",
       "      <th></th>\n",
       "      <th>Id</th>\n",
       "      <th>description</th>\n",
       "      <th>gender</th>\n",
       "      <th>Category</th>\n",
       "    </tr>\n",
       "  </thead>\n",
       "  <tbody>\n",
       "    <tr>\n",
       "      <th>0</th>\n",
       "      <td>0</td>\n",
       "      <td>She is also a Ronald D. Asmus Policy Entrepre...</td>\n",
       "      <td>F</td>\n",
       "      <td>19</td>\n",
       "    </tr>\n",
       "    <tr>\n",
       "      <th>1</th>\n",
       "      <td>1</td>\n",
       "      <td>He is a member of the AICPA and WICPA. Brent ...</td>\n",
       "      <td>M</td>\n",
       "      <td>9</td>\n",
       "    </tr>\n",
       "    <tr>\n",
       "      <th>2</th>\n",
       "      <td>2</td>\n",
       "      <td>Dr. Aster has held teaching and research posi...</td>\n",
       "      <td>M</td>\n",
       "      <td>19</td>\n",
       "    </tr>\n",
       "  </tbody>\n",
       "</table>\n",
       "</div>"
      ],
      "text/plain": [
       "   Id                                        description gender  Category\n",
       "0   0   She is also a Ronald D. Asmus Policy Entrepre...      F        19\n",
       "1   1   He is a member of the AICPA and WICPA. Brent ...      M         9\n",
       "2   2   Dr. Aster has held teaching and research posi...      M        19"
      ]
     },
     "execution_count": 137,
     "metadata": {},
     "output_type": "execute_result"
    }
   ],
   "source": [
    "df.head(3)"
   ]
  },
  {
   "cell_type": "code",
   "execution_count": 139,
   "metadata": {},
   "outputs": [
    {
     "data": {
      "image/png": "[encoded data removed]",
      "text/plain": [
       "<Figure size 432x288 with 1 Axes>"
      ]
     },
     "metadata": {
      "needs_background": "light"
     },
     "output_type": "display_data"
    },
    {
     "data": {
      "image/png": "[encoded data removed]",
      "text/plain": [
       "<Figure size 432x288 with 1 Axes>"
      ]
     },
     "metadata": {
      "needs_background": "light"
     },
     "output_type": "display_data"
    }
   ],
   "source": [
    "# Visualize the distribution of the gender attribute and the Category one using appropriate graphics (barplot)\n",
    "# Example of visualisation libraries: seaborn, matplotlib etc. \n",
    "\n",
    "import seaborn as sns\n",
    "import matplotlib.pyplot as plt\n",
    "graph_gender = sns.countplot(x=\"gender\", data=df)\n",
    "plt.show()\n",
    "graph_category = sns.countplot(x=\"Category\", data=df)\n",
    "plt.show()"
   ]
  },
  {
   "cell_type": "markdown",
   "metadata": {},
   "source": [
    "**What do you observe ?**\n",
    "\n",
    "Your answer: Données très inégales, cela risque de fausser le modèle, mais en moyenne ça sera ok"
   ]
  },
  {
   "cell_type": "markdown",
   "metadata": {},
   "source": [
    "For the following part, let's focus on the top-5 jobs (category). "
   ]
  },
  {
   "cell_type": "code",
   "execution_count": 140,
   "metadata": {},
   "outputs": [
    {
     "name": "stdout",
     "output_type": "stream",
     "text": [
      "[19, 26, 20, 14, 6]\n"
     ]
    },
    {
     "data": {
      "text/html": [
       "<div>\n",
       "<style scoped>\n",
       "    .dataframe tbody tr th:only-of-type {\n",
       "        vertical-align: middle;\n",
       "    }\n",
       "\n",
       "    .dataframe tbody tr th {\n",
       "        vertical-align: top;\n",
       "    }\n",
       "\n",
       "    .dataframe thead th {\n",
       "        text-align: right;\n",
       "    }\n",
       "</style>\n",
       "<table border=\"1\" class=\"dataframe\">\n",
       "  <thead>\n",
       "    <tr style=\"text-align: right;\">\n",
       "      <th></th>\n",
       "      <th>Id</th>\n",
       "      <th>description</th>\n",
       "      <th>gender</th>\n",
       "      <th>Category</th>\n",
       "    </tr>\n",
       "  </thead>\n",
       "  <tbody>\n",
       "    <tr>\n",
       "      <th>100766</th>\n",
       "      <td>100766</td>\n",
       "      <td>She joined the K-State faculty in August of 2...</td>\n",
       "      <td>F</td>\n",
       "      <td>19</td>\n",
       "    </tr>\n",
       "    <tr>\n",
       "      <th>140783</th>\n",
       "      <td>140783</td>\n",
       "      <td>He received his B.A. in Political Science alo...</td>\n",
       "      <td>M</td>\n",
       "      <td>26</td>\n",
       "    </tr>\n",
       "    <tr>\n",
       "      <th>215277</th>\n",
       "      <td>215277</td>\n",
       "      <td>She completed her graduate studies at Univers...</td>\n",
       "      <td>F</td>\n",
       "      <td>19</td>\n",
       "    </tr>\n",
       "    <tr>\n",
       "      <th>121801</th>\n",
       "      <td>121801</td>\n",
       "      <td>Prior to this, she was working with IBS Hyder...</td>\n",
       "      <td>F</td>\n",
       "      <td>19</td>\n",
       "    </tr>\n",
       "    <tr>\n",
       "      <th>137100</th>\n",
       "      <td>137100</td>\n",
       "      <td>For a long while his research has focused in ...</td>\n",
       "      <td>M</td>\n",
       "      <td>19</td>\n",
       "    </tr>\n",
       "    <tr>\n",
       "      <th>178054</th>\n",
       "      <td>178054</td>\n",
       "      <td>His research applies lab and field experiment...</td>\n",
       "      <td>M</td>\n",
       "      <td>19</td>\n",
       "    </tr>\n",
       "    <tr>\n",
       "      <th>105860</th>\n",
       "      <td>105860</td>\n",
       "      <td>In addition to working as a visiting nurse, s...</td>\n",
       "      <td>F</td>\n",
       "      <td>14</td>\n",
       "    </tr>\n",
       "    <tr>\n",
       "      <th>59119</th>\n",
       "      <td>59119</td>\n",
       "      <td>She also has a degree in music and teaches mu...</td>\n",
       "      <td>F</td>\n",
       "      <td>6</td>\n",
       "    </tr>\n",
       "    <tr>\n",
       "      <th>128236</th>\n",
       "      <td>128236</td>\n",
       "      <td>His research interests include cinema and cul...</td>\n",
       "      <td>M</td>\n",
       "      <td>19</td>\n",
       "    </tr>\n",
       "    <tr>\n",
       "      <th>33940</th>\n",
       "      <td>33940</td>\n",
       "      <td>His research focuses on public sector contrac...</td>\n",
       "      <td>M</td>\n",
       "      <td>19</td>\n",
       "    </tr>\n",
       "  </tbody>\n",
       "</table>\n",
       "</div>"
      ],
      "text/plain": [
       "            Id                                        description gender  \\\n",
       "100766  100766   She joined the K-State faculty in August of 2...      F   \n",
       "140783  140783   He received his B.A. in Political Science alo...      M   \n",
       "215277  215277   She completed her graduate studies at Univers...      F   \n",
       "121801  121801   Prior to this, she was working with IBS Hyder...      F   \n",
       "137100  137100   For a long while his research has focused in ...      M   \n",
       "178054  178054   His research applies lab and field experiment...      M   \n",
       "105860  105860   In addition to working as a visiting nurse, s...      F   \n",
       "59119    59119   She also has a degree in music and teaches mu...      F   \n",
       "128236  128236   His research interests include cinema and cul...      M   \n",
       "33940    33940   His research focuses on public sector contrac...      M   \n",
       "\n",
       "        Category  \n",
       "100766        19  \n",
       "140783        26  \n",
       "215277        19  \n",
       "121801        19  \n",
       "137100        19  \n",
       "178054        19  \n",
       "105860        14  \n",
       "59119          6  \n",
       "128236        19  \n",
       "33940         19  "
      ]
     },
     "execution_count": 140,
     "metadata": {},
     "output_type": "execute_result"
    }
   ],
   "source": [
    "# Create a new dataframe based on `df` but that contains observations that belongs to the top-5 most frequent jobs. \n",
    "top_values = df['Category'].value_counts()\n",
    "liste = top_values.nlargest(5).index.tolist()\n",
    "print(liste)\n",
    "df_top5 = df[df['Category'].isin(liste)]\n",
    "\n",
    "df_top5.sample(10)"
   ]
  },
  {
   "cell_type": "code",
   "execution_count": 141,
   "metadata": {},
   "outputs": [
    {
     "name": "stderr",
     "output_type": "stream",
     "text": [
      "<ipython-input-141-ce13b2bc1df9>:2: SettingWithCopyWarning: \n",
      "A value is trying to be set on a copy of a slice from a DataFrame.\n",
      "Try using .loc[row_indexer,col_indexer] = value instead\n",
      "\n",
      "See the caveats in the documentation: https://pandas.pydata.org/pandas-docs/stable/user_guide/indexing.html#returning-a-view-versus-a-copy\n",
      "  df_top5[\"description_lower\"] = [x.lower() for x in df_top5.description]\n"
     ]
    },
    {
     "data": {
      "text/html": [
       "<div>\n",
       "<style scoped>\n",
       "    .dataframe tbody tr th:only-of-type {\n",
       "        vertical-align: middle;\n",
       "    }\n",
       "\n",
       "    .dataframe tbody tr th {\n",
       "        vertical-align: top;\n",
       "    }\n",
       "\n",
       "    .dataframe thead th {\n",
       "        text-align: right;\n",
       "    }\n",
       "</style>\n",
       "<table border=\"1\" class=\"dataframe\">\n",
       "  <thead>\n",
       "    <tr style=\"text-align: right;\">\n",
       "      <th></th>\n",
       "      <th>Id</th>\n",
       "      <th>description</th>\n",
       "      <th>gender</th>\n",
       "      <th>Category</th>\n",
       "      <th>description_lower</th>\n",
       "    </tr>\n",
       "  </thead>\n",
       "  <tbody>\n",
       "    <tr>\n",
       "      <th>24770</th>\n",
       "      <td>24770</td>\n",
       "      <td>With a strong theory in lighting technique, h...</td>\n",
       "      <td>M</td>\n",
       "      <td>20</td>\n",
       "      <td>with a strong theory in lighting technique, h...</td>\n",
       "    </tr>\n",
       "    <tr>\n",
       "      <th>31530</th>\n",
       "      <td>31530</td>\n",
       "      <td>His main interest is the role of streams, riv...</td>\n",
       "      <td>M</td>\n",
       "      <td>19</td>\n",
       "      <td>his main interest is the role of streams, riv...</td>\n",
       "    </tr>\n",
       "    <tr>\n",
       "      <th>216708</th>\n",
       "      <td>216708</td>\n",
       "      <td>Her professional work has been in the corpora...</td>\n",
       "      <td>F</td>\n",
       "      <td>19</td>\n",
       "      <td>her professional work has been in the corpora...</td>\n",
       "    </tr>\n",
       "    <tr>\n",
       "      <th>128044</th>\n",
       "      <td>128044</td>\n",
       "      <td>Her research explores the intersection of rac...</td>\n",
       "      <td>F</td>\n",
       "      <td>19</td>\n",
       "      <td>her research explores the intersection of rac...</td>\n",
       "    </tr>\n",
       "    <tr>\n",
       "      <th>51216</th>\n",
       "      <td>51216</td>\n",
       "      <td>Energized by blue-sky ideation and fulfilled ...</td>\n",
       "      <td>M</td>\n",
       "      <td>6</td>\n",
       "      <td>energized by blue-sky ideation and fulfilled ...</td>\n",
       "    </tr>\n",
       "  </tbody>\n",
       "</table>\n",
       "</div>"
      ],
      "text/plain": [
       "            Id                                        description gender  \\\n",
       "24770    24770   With a strong theory in lighting technique, h...      M   \n",
       "31530    31530   His main interest is the role of streams, riv...      M   \n",
       "216708  216708   Her professional work has been in the corpora...      F   \n",
       "128044  128044   Her research explores the intersection of rac...      F   \n",
       "51216    51216   Energized by blue-sky ideation and fulfilled ...      M   \n",
       "\n",
       "        Category                                  description_lower  \n",
       "24770         20   with a strong theory in lighting technique, h...  \n",
       "31530         19   his main interest is the role of streams, riv...  \n",
       "216708        19   her professional work has been in the corpora...  \n",
       "128044        19   her research explores the intersection of rac...  \n",
       "51216          6   energized by blue-sky ideation and fulfilled ...  "
      ]
     },
     "execution_count": 141,
     "metadata": {},
     "output_type": "execute_result"
    }
   ],
   "source": [
    "# Lets convert the text to lower case to reduce the size of the vocabulary\n",
    "df_top5[\"description_lower\"] = [x.lower() for x in df_top5.description]\n",
    "df_top5.sample(5)"
   ]
  },
  {
   "cell_type": "code",
   "execution_count": 142,
   "metadata": {},
   "outputs": [],
   "source": [
    "# Split the data into train and test \n",
    "X_train, X_test, y_train, y_test = train_test_split(df_top5[\"description_lower\"], \n",
    "                                                    df_top5[\"Category\"], test_size=0.33, random_state=42)"
   ]
  },
  {
   "cell_type": "code",
   "execution_count": 143,
   "metadata": {},
   "outputs": [
    {
     "name": "stdout",
     "output_type": "stream",
     "text": [
      "NB features: 121369\n"
     ]
    }
   ],
   "source": [
    "# Convert the text to tf-idf vectors \n",
    "transformer = TfidfVectorizer()\n",
    "transformer.fit(X_train.values)\n",
    "print(\"NB features: %d\" %(len(transformer.vocabulary_)))\n",
    "X_train = transformer.transform(X_train.values)\n",
    "X_test = transformer.transform(X_test.values)"
   ]
  },
  {
   "cell_type": "code",
   "execution_count": 144,
   "metadata": {},
   "outputs": [
    {
     "name": "stdout",
     "output_type": "stream",
     "text": [
      "X_train shape is :  (86027, 121369)\n",
      "y_train shape is :  (86027,)\n"
     ]
    }
   ],
   "source": [
    "# Check the shape of X_train and y_train\n",
    "print(\"X_train shape is : \", X_train.shape)\n",
    "print(\"y_train shape is : \", y_train.shape)"
   ]
  },
  {
   "cell_type": "code",
   "execution_count": 145,
   "metadata": {},
   "outputs": [],
   "source": [
    "# Fit a logistic regression model on X_train with 2000 max iterations\n",
    "model = LogisticRegression(max_iter=2000)\n",
    "model.fit(X_train, y_train)\n",
    "y_pred = model.predict(X_test)"
   ]
  },
  {
   "cell_type": "code",
   "execution_count": 146,
   "metadata": {},
   "outputs": [
    {
     "name": "stdout",
     "output_type": "stream",
     "text": [
      "Macro F1:  0.897\n"
     ]
    }
   ],
   "source": [
    "# Check the macro f1-score\n",
    "test_f1 = f1_score(y_test, y_pred, average='macro')\n",
    "print('Macro F1:  %0.3f' % test_f1)"
   ]
  },
  {
   "cell_type": "markdown",
   "metadata": {},
   "source": [
    "## What about pre-processing ? \n",
    "\n",
    "Let's try basic pre-processing for textual data. \n",
    "- removing stop words\n",
    "- lemmatization \n",
    "- stemmatization \n",
    "\n",
    "To proceed we can use the `nltk` library for instance (other alternatives : `sklearn`, `spacy`)"
   ]
  },
  {
   "cell_type": "code",
   "execution_count": 147,
   "metadata": {},
   "outputs": [
    {
     "name": "stdout",
     "output_type": "stream",
     "text": [
      "['i', 'me', 'my', 'myself', 'we', 'our', 'ours', 'ourselves', 'you', \"you're\", \"you've\", \"you'll\", \"you'd\", 'your', 'yours', 'yourself', 'yourselves', 'he', 'him', 'his', 'himself', 'she', \"she's\", 'her', 'hers', 'herself', 'it', \"it's\", 'its', 'itself', 'they', 'them', 'their', 'theirs', 'themselves', 'what', 'which', 'who', 'whom', 'this', 'that', \"that'll\", 'these', 'those', 'am', 'is', 'are', 'was', 'were', 'be', 'been', 'being', 'have', 'has', 'had', 'having', 'do', 'does', 'did', 'doing', 'a', 'an', 'the', 'and', 'but', 'if', 'or', 'because', 'as', 'until', 'while', 'of', 'at', 'by', 'for', 'with', 'about', 'against', 'between', 'into', 'through', 'during', 'before', 'after', 'above', 'below', 'to', 'from', 'up', 'down', 'in', 'out', 'on', 'off', 'over', 'under', 'again', 'further', 'then', 'once', 'here', 'there', 'when', 'where', 'why', 'how', 'all', 'any', 'both', 'each', 'few', 'more', 'most', 'other', 'some', 'such', 'no', 'nor', 'not', 'only', 'own', 'same', 'so', 'than', 'too', 'very', 's', 't', 'can', 'will', 'just', 'don', \"don't\", 'should', \"should've\", 'now', 'd', 'll', 'm', 'o', 're', 've', 'y', 'ain', 'aren', \"aren't\", 'couldn', \"couldn't\", 'didn', \"didn't\", 'doesn', \"doesn't\", 'hadn', \"hadn't\", 'hasn', \"hasn't\", 'haven', \"haven't\", 'isn', \"isn't\", 'ma', 'mightn', \"mightn't\", 'mustn', \"mustn't\", 'needn', \"needn't\", 'shan', \"shan't\", 'shouldn', \"shouldn't\", 'wasn', \"wasn't\", 'weren', \"weren't\", 'won', \"won't\", 'wouldn', \"wouldn't\"]\n"
     ]
    },
    {
     "name": "stderr",
     "output_type": "stream",
     "text": [
      "[nltk_data] Downloading package stopwords to\n",
      "[nltk_data]     /Users/thomasjaulgey/nltk_data...\n",
      "[nltk_data]   Unzipping corpora/stopwords.zip.\n"
     ]
    }
   ],
   "source": [
    "# Import nltk and the list of stop words\n",
    "import nltk\n",
    "from nltk.corpus import stopwords\n",
    "nltk.download('stopwords')\n",
    "stop = stopwords.words('english')\n",
    "\n",
    "# Take a look at the list\n",
    "print(list(stop))"
   ]
  },
  {
   "cell_type": "code",
   "execution_count": 150,
   "metadata": {},
   "outputs": [
    {
     "name": "stderr",
     "output_type": "stream",
     "text": [
      "<ipython-input-150-3ae3d652e350>:2: SettingWithCopyWarning: \n",
      "A value is trying to be set on a copy of a slice from a DataFrame.\n",
      "Try using .loc[row_indexer,col_indexer] = value instead\n",
      "\n",
      "See the caveats in the documentation: https://pandas.pydata.org/pandas-docs/stable/user_guide/indexing.html#returning-a-view-versus-a-copy\n",
      "  df_top5['description_wo_stop'] = df_top5[\"description_lower\"].apply(\n"
     ]
    }
   ],
   "source": [
    "# Remove stop words from df \n",
    "df_top5['description_wo_stop'] = df_top5[\"description_lower\"].apply(\n",
    "    lambda words: ' '.join(word.lower() for word in words.split() if word not in stop))"
   ]
  },
  {
   "cell_type": "code",
   "execution_count": 151,
   "metadata": {},
   "outputs": [],
   "source": [
    "X_train, X_test, y_train, y_test = train_test_split(df_top5[\"description_wo_stop\"], \n",
    "                                                    df_top5[\"Category\"], test_size=0.33, random_state=42)"
   ]
  },
  {
   "cell_type": "code",
   "execution_count": 152,
   "metadata": {},
   "outputs": [
    {
     "name": "stdout",
     "output_type": "stream",
     "text": [
      "NB features: 121237\n"
     ]
    }
   ],
   "source": [
    "# Tf-idf vectorization\n",
    "transformer = TfidfVectorizer(stop_words=list(stop)).fit(X_train.values)\n",
    "print(\"NB features: %d\" %(len(transformer.vocabulary_)))\n",
    "X_train = transformer.transform(X_train.values)\n",
    "X_test = transformer.transform(X_test.values)"
   ]
  },
  {
   "cell_type": "code",
   "execution_count": 153,
   "metadata": {},
   "outputs": [
    {
     "name": "stdout",
     "output_type": "stream",
     "text": [
      "Macro F1:  0.897\n"
     ]
    }
   ],
   "source": [
    "# Logistic regression - Same as before\n",
    "model = LogisticRegression(max_iter=2000)\n",
    "model.fit(X_train, y_train)\n",
    "y_pred = model.predict(X_test)\n",
    "\n",
    "test_f1 = f1_score(y_test, y_pred, average='macro')\n",
    "print('Macro F1:  %0.3f' % test_f1)"
   ]
  },
  {
   "cell_type": "markdown",
   "metadata": {},
   "source": [
    "**What do you observe ?**\n",
    "\n",
    "Your answer : mêmes performances du modèle mais on a moins de variables, donc potentiel gain de temps de calcul sans dégrader les performances du modèle"
   ]
  },
  {
   "cell_type": "code",
   "execution_count": 154,
   "metadata": {},
   "outputs": [],
   "source": [
    "# Let add some more pre-processing. \n",
    "\n",
    "from nltk.tokenize import RegexpTokenizer\n",
    "from nltk.stem import WordNetLemmatizer,PorterStemmer\n",
    "import re\n",
    "\n",
    "\n",
    "lemmatizer = WordNetLemmatizer()\n",
    "stemmer = PorterStemmer() \n",
    "\n",
    "def preprocess(sentence):\n",
    "    sentence=str(sentence)\n",
    "    # Lowercase text\n",
    "    sentence = sentence.lower()\n",
    "    # Remove whitespace\n",
    "    sentence=sentence.replace('{html}',\"\") \n",
    "    cleanr = re.compile('<.*?>')\n",
    "    cleantext = re.sub(cleanr, '', sentence)\n",
    "    # Remove weblinks\n",
    "    rem_url=re.sub(r'http\\S+', '',cleantext)\n",
    "    # Remove numbers\n",
    "    rem_num = re.sub('[0-9]+', '', rem_url)\n",
    "    tokenizer = RegexpTokenizer(r'\\w+')\n",
    "    tokens = tokenizer.tokenize(rem_num)  \n",
    "    filtered_words = [w for w in tokens if len(w) > 2 if not w in stopwords.words('english')]\n",
    "    stem_words=[stemmer.stem(w) for w in filtered_words]\n",
    "    lemma_words=[lemmatizer.lemmatize(w) for w in stem_words]\n",
    "    return \" \".join(filtered_words)"
   ]
  },
  {
   "cell_type": "markdown",
   "metadata": {},
   "source": [
    "**Describe the different pre-processing methods used by the `preprocess` function**\n",
    "\n",
    "Your answer: \n",
    "- texte en minuscule\n",
    "- suppressions des espaces en trop\n",
    "- suppression des liens web\n",
    "- suppression des nombres\n",
    "- suppression des mots de moins de 2 lettres et des stop words de plus de 2 lettres pour ne garder que le texte important"
   ]
  },
  {
   "cell_type": "code",
   "execution_count": 155,
   "metadata": {},
   "outputs": [
    {
     "name": "stderr",
     "output_type": "stream",
     "text": [
      "<ipython-input-155-ea35781f4fd4>:2: SettingWithCopyWarning: \n",
      "A value is trying to be set on a copy of a slice from a DataFrame.\n",
      "Try using .loc[row_indexer,col_indexer] = value instead\n",
      "\n",
      "See the caveats in the documentation: https://pandas.pydata.org/pandas-docs/stable/user_guide/indexing.html#returning-a-view-versus-a-copy\n",
      "  df_top5['description_pre']=df_top5['description'].map(lambda s:preprocess(s))\n"
     ]
    }
   ],
   "source": [
    "# Let's apply the function to our data\n",
    "df_top5['description_pre']=df_top5['description'].map(lambda s:preprocess(s)) "
   ]
  },
  {
   "cell_type": "markdown",
   "metadata": {},
   "source": [
    "Following the same steps as before, split the data into a train and a test set. They learn a logistic regression and print the f1 score obtained. "
   ]
  },
  {
   "cell_type": "code",
   "execution_count": 156,
   "metadata": {},
   "outputs": [
    {
     "name": "stdout",
     "output_type": "stream",
     "text": [
      "NB features: 111665\n",
      "Macro F1:  0.894\n"
     ]
    }
   ],
   "source": [
    "X_train, X_test, y_train, y_test = train_test_split(df_top5[\"description_pre\"], \n",
    "                                                    df_top5[\"Category\"], test_size=0.33, random_state=42)\n",
    "\n",
    "# Tf-idf vectorization\n",
    "transformer = TfidfVectorizer(stop_words=list(stop)).fit(X_train.values)\n",
    "print(\"NB features: %d\" %(len(transformer.vocabulary_)))\n",
    "X_train = transformer.transform(X_train.values)\n",
    "X_test = transformer.transform(X_test.values)\n",
    "\n",
    "# Logistic regression - Same as before\n",
    "model = LogisticRegression(max_iter=2000)\n",
    "model.fit(X_train, y_train)\n",
    "y_pred = model.predict(X_test)\n",
    "\n",
    "test_f1 = f1_score(y_test, y_pred, average='macro')\n",
    "print('Macro F1:  %0.3f' % test_f1)"
   ]
  },
  {
   "cell_type": "markdown",
   "metadata": {},
   "source": [
    "**What do you observe ?**\n",
    "\n",
    "Your answer: score identique aux précédents"
   ]
  },
  {
   "cell_type": "code",
   "execution_count": null,
   "metadata": {},
   "outputs": [],
   "source": [
    "# Let's try to tune the regularisation parameter of our model. \n",
    "\n",
    "from sklearn.model_selection import RepeatedStratifiedKFold\n",
    "from sklearn.model_selection import GridSearchCV\n",
    "from sklearn.linear_model import LogisticRegression\n",
    "\n",
    "# Initialize the model\n",
    "...\n",
    "\n",
    "# Define the grid search\n",
    "...\n",
    "\n",
    "# Summarize results\n",
    "..."
   ]
  },
  {
   "cell_type": "markdown",
   "metadata": {},
   "source": [
    "## Let's dive into Deep Learning"
   ]
  },
  {
   "cell_type": "markdown",
   "metadata": {},
   "source": [
    "### Transformers and attention mechanisms\n",
    "The paper ‘Attention Is All You Need’ describes transformers and what is called a \n",
    "sequence-to-sequence architecture. Sequence-to-Sequence (or Seq2Seq) is a neural net that transforms\n",
    "a given sequence of elements, such as the sequence of words in a sentence, into another sequence. \n",
    "\n",
    "Seq2Seq models are particularly good at translation, where the sequence of words from one language is transformed into a sequence of different words in another language. A popular choice for this type of model is Long-Short-Term-Memory (LSTM)-based models. With sequence-dependent data, the LSTM modules can give meaning to the sequence while remembering (or forgetting) the parts it finds important (or unimportant). Sentences, for example, are sequence-dependent since the order of the words is crucial for understanding the sentence. LSTM are a natural choice for this type of data.\n",
    "\n",
    "Seq2Seq models consist of an Encoder and a Decoder. The Encoder takes the input sequence and maps it into a higher dimensional space (n-dimensional vector). That abstract vector is fed into the Decoder which turns it into an output sequence. The output sequence can be in another language, symbols, a copy of the input, etc. To solve the task of document classification we will use the pre-trained model **Bert**. \n",
    "\n",
    "#### TO DO \n",
    "\n",
    "1. As a first exercice, you will have to read the paper **Attention Is All You Need**, to get a general understanding of transformers. You can also look for additional resources online (tutorial, video etc.) To keep things clear I recommend to focus on transformers for NLP (text). The paper can be found [here](https://proceedings.neurips.cc/paper/2017/file/3f5ee243547dee91fbd053c1c4a845aa-Paper.pdf). \n",
    "\n",
    "**This step is mandatory as you will need to unserstand the basics of transformers for what will follow. In addition, you will have questions specifically related to this architecture during your last evaluation.**\n",
    "\n",
    "2. We will then use a pre-trained model based usin the popular [Huggin Face](https://huggingface.co/docs/transformers/index) for pytorch. More precisely, we plan on using the [Bert](https://huggingface.co/docs/transformers/model_doc/bert) model. The following cells guide you toward using Bert. On top of applying the model to our data, you will have to answer a few questions along the project (including the ones above). These **questions are mandatory**. \n",
    "\n",
    "3. Finally, the last step is the fine-tuning. Generally speaking, fine tuning a model refers to re-training the last layers of a deep architecture on your data. Again, you will be guided on how to proceed. "
   ]
  },
  {
   "cell_type": "markdown",
   "metadata": {},
   "source": [
    "**Lets start !**\n",
    "The first thing that you need to do is to install the transformers librariy \n",
    "\n",
    "`import sys\n",
    "!{sys.executable} -m pip install transformers`"
   ]
  },
  {
   "cell_type": "code",
   "execution_count": null,
   "metadata": {},
   "outputs": [],
   "source": [
    "# Import the library\n",
    "from transformers import AutoModelWithLMHead, AutoTokenizer\n",
    "import torch \n",
    "from transformers import BertTokenizer"
   ]
  },
  {
   "cell_type": "markdown",
   "metadata": {},
   "source": [
    "Let's take a look at some popular pre-trained models available in Huggingface. \n",
    "\n",
    "1. We start with the model Camembert [Camembert](https://camembert-model.fr/) trained on french corpus by Facebook and Inria teams. \n",
    "2. GPT2 a pre-trained model for text generation\n",
    "3. Bert !\n",
    "\n",
    "**Note:** You can also directly try the online [demo](https://transformer.huggingface.co/) of the library."
   ]
  },
  {
   "cell_type": "code",
   "execution_count": null,
   "metadata": {},
   "outputs": [],
   "source": [
    "# Example 1 - Camembert\n",
    "\n",
    "model_name = \"camembert-base\"# try also distilbert-base-cased for english\n",
    "tokenizer = AutoTokenizer.from_pretrained(model_name)\n",
    "model = AutoModelWithLMHead.from_pretrained(model_name)"
   ]
  },
  {
   "cell_type": "code",
   "execution_count": null,
   "metadata": {},
   "outputs": [],
   "source": [
    "all_sequences = [f\"Jacques Chirac est un {tokenizer.mask_token}\", \n",
    "            f\"Antoine Griezman est un {tokenizer.mask_token}\",\n",
    "            f\"Le camembert, c'est {tokenizer.mask_token}\"]\n",
    "\n",
    "for sequence in all_sequences:\n",
    "    input = tokenizer.encode(sequence, return_tensors=\"pt\")\n",
    "    mask_token_index = torch.where(input == tokenizer.mask_token_id)[1]\n",
    "    token_logits = model(input).logits\n",
    "    mask_token_logits = token_logits[0, mask_token_index, :]\n",
    "    top_5_tokens = torch.topk(mask_token_logits, 5, dim=1).indices[0].tolist()\n",
    "    for token in top_5_tokens:\n",
    "        print(sequence.replace(tokenizer.mask_token, tokenizer.decode([token])))"
   ]
  },
  {
   "cell_type": "code",
   "execution_count": null,
   "metadata": {},
   "outputs": [],
   "source": [
    "# Example 2 - GPT2 for text generation \n",
    "\n",
    "# Your turn : find a small example on how to use GPT2 to generate text with pytorch. "
   ]
  },
  {
   "cell_type": "code",
   "execution_count": null,
   "metadata": {},
   "outputs": [],
   "source": [
    "# Finally, Bert !! Let's see next time :) "
   ]
  }
 ],
 "metadata": {
  "kernelspec": {
   "display_name": "Python 3",
   "language": "python",
   "name": "python3"
  },
  "language_info": {
   "codemirror_mode": {
    "name": "ipython",
    "version": 3
   },
   "file_extension": ".py",
   "mimetype": "text/x-python",
   "name": "python",
   "nbconvert_exporter": "python",
   "pygments_lexer": "ipython3",
   "version": "3.8.3"
  }
 },
 "nbformat": 4,
 "nbformat_minor": 4
}
